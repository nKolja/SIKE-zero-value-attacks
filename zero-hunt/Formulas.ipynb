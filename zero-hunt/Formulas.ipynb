{
 "cells": [
  {
   "cell_type": "code",
   "execution_count": 1,
   "id": "a393d6a1",
   "metadata": {},
   "outputs": [],
   "source": [
    "# The magic happens here\n",
    "import formula as f"
   ]
  },
  {
   "cell_type": "markdown",
   "id": "c534da31",
   "metadata": {},
   "source": [
    "## Printing formulas for visual checking"
   ]
  },
  {
   "cell_type": "code",
   "execution_count": 2,
   "id": "b1a07c9e",
   "metadata": {},
   "outputs": [],
   "source": [
    "from sympy import init_printing\n",
    "init_printing()"
   ]
  },
  {
   "cell_type": "code",
   "execution_count": 3,
   "id": "c173b4db",
   "metadata": {},
   "outputs": [
    {
     "data": {
      "image/png": "[encoded data removed]",
      "text/latex": [
       "$\\displaystyle \\left( \\frac{\\left(X_{P} - 1\\right)^{2} \\left(X_{P} + 1\\right)^{2}}{4 X_{P} \\left(A X_{P} + X_{P}^{2} + 1\\right)}, \\  \\frac{\\left(X_{P} X_{Q} - 1\\right)^{2}}{X_{QP} \\left(X_{P} - X_{Q}\\right)^{2}}\\right)$"
      ],
      "text/plain": [
       "⎛          2          2                   2 ⎞\n",
       "⎜ (X_P - 1) ⋅(X_P + 1)       (X_P⋅X_Q - 1)  ⎟\n",
       "⎜────────────────────────, ─────────────────⎟\n",
       "⎜      ⎛           2    ⎞                  2⎟\n",
       "⎝4⋅X_P⋅⎝A⋅X_P + X_P  + 1⎠  X_QP⋅(X_P - X_Q) ⎠"
      ]
     },
     "execution_count": 3,
     "metadata": {},
     "output_type": "execute_result"
    }
   ],
   "source": [
    "dbladd = f.xDBLADD().formula()\n",
    "dbladd['X2']/dbladd['Z2'], dbladd['X+']/dbladd['Z+']"
   ]
  },
  {
   "cell_type": "code",
   "execution_count": 4,
   "id": "112b51d0",
   "metadata": {},
   "outputs": [
    {
     "data": {
      "image/png": "[encoded data removed]",
      "text/latex": [
       "$\\displaystyle \\frac{\\left(X - 1\\right)^{2} \\left(X + 1\\right)^{2}}{4 X \\left(A X + X^{2} + 1\\right)}$"
      ],
      "text/plain": [
       "       2        2 \n",
       "(X - 1) ⋅(X + 1)  \n",
       "──────────────────\n",
       "    ⎛       2    ⎞\n",
       "4⋅X⋅⎝A⋅X + X  + 1⎠"
      ]
     },
     "execution_count": 4,
     "metadata": {},
     "output_type": "execute_result"
    }
   ],
   "source": [
    "dbl = f.xDBL().formula()\n",
    "dbl['X'] / dbl['Z']"
   ]
  },
  {
   "cell_type": "code",
   "execution_count": 5,
   "id": "ebdfd323",
   "metadata": {},
   "outputs": [
    {
     "data": {
      "image/png": "[encoded data removed]",
      "text/latex": [
       "$\\displaystyle \\frac{X \\left(4 A X - X^{4} + 6 X^{2} + 3\\right)^{2}}{\\left(4 A X^{3} + 3 X^{4} + 6 X^{2} - 1\\right)^{2}}$"
      ],
      "text/plain": [
       "                          2\n",
       "   ⎛         4      2    ⎞ \n",
       " X⋅⎝4⋅A⋅X - X  + 6⋅X  + 3⎠ \n",
       "───────────────────────────\n",
       "                          2\n",
       "⎛     3      4      2    ⎞ \n",
       "⎝4⋅A⋅X  + 3⋅X  + 6⋅X  - 1⎠ "
      ]
     },
     "execution_count": 5,
     "metadata": {},
     "output_type": "execute_result"
    }
   ],
   "source": [
    "tpl = f.xTPL().formula()\n",
    "tpl['X'] / tpl['Z']"
   ]
  },
  {
   "cell_type": "code",
   "execution_count": 6,
   "id": "c01d5f77",
   "metadata": {},
   "outputs": [
    {
     "data": {
      "image/png": "[encoded data removed]",
      "text/latex": [
       "$\\displaystyle \\left( 2 - 4 X₂^{2}, \\  \\frac{X_{P} \\left(X_{P} X₂ - 1\\right)}{X_{P} - X₂}\\right)$"
      ],
      "text/plain": [
       "⎛        2  X_P⋅(X_P⋅X₂ - 1)⎞\n",
       "⎜2 - 4⋅X₂ , ────────────────⎟\n",
       "⎝               X_P - X₂    ⎠"
      ]
     },
     "execution_count": 6,
     "metadata": {},
     "output_type": "execute_result"
    }
   ],
   "source": [
    "iso2 = f.xIso2().formula()\n",
    "f.expand(4 * iso2['A₂₄⁺'] / iso2['C₂₄'] - 2), iso2['X'] / iso2['Z']"
   ]
  },
  {
   "cell_type": "code",
   "execution_count": 7,
   "id": "f707cfff",
   "metadata": {},
   "outputs": [
    {
     "data": {
      "image/png": "[encoded data removed]",
      "text/latex": [
       "$\\displaystyle \\left( 4 X₄^{4} - 2, \\  - \\frac{X_{P} \\left(X_{P} X₄ - 1\\right)^{2} \\left(X_{P} X₄^{2} + X_{P} - 2 X₄\\right)}{\\left(X_{P} - X₄\\right)^{2} \\left(2 X_{P} X₄ - X₄^{2} - 1\\right)}\\right)$"
      ],
      "text/plain": [
       "⎛                            2 ⎛      2             ⎞ ⎞\n",
       "⎜    4      -X_P⋅(X_P⋅X₄ - 1) ⋅⎝X_P⋅X₄  + X_P - 2⋅X₄⎠ ⎟\n",
       "⎜4⋅X₄  - 2, ──────────────────────────────────────────⎟\n",
       "⎜                          2 ⎛             2    ⎞     ⎟\n",
       "⎝                (X_P - X₄) ⋅⎝2⋅X_P⋅X₄ - X₄  - 1⎠     ⎠"
      ]
     },
     "execution_count": 7,
     "metadata": {},
     "output_type": "execute_result"
    }
   ],
   "source": [
    "iso4 = f.xIso4().formula()\n",
    "f.expand(4 * iso4['A₂₄⁺'] / iso4['C₂₄'] - 2), iso4['X'] / iso4['Z']"
   ]
  },
  {
   "cell_type": "code",
   "execution_count": 8,
   "id": "0a7b60d7",
   "metadata": {},
   "outputs": [
    {
     "data": {
      "image/png": "[encoded data removed]",
      "text/latex": [
       "$\\displaystyle \\left( - \\frac{27 X₃^{4} - 18 X₃^{2} - 1}{4 X₃}, \\  \\frac{X_{P} \\left(X_{P} X₃ - 1\\right)^{2}}{\\left(X_{P} - X₃\\right)^{2}}\\right)$"
      ],
      "text/plain": [
       "⎛ ⎛     4        2    ⎞                   2⎞\n",
       "⎜-⎝27⋅X₃  - 18⋅X₃  - 1⎠   X_P⋅(X_P⋅X₃ - 1) ⎟\n",
       "⎜───────────────────────, ─────────────────⎟\n",
       "⎜          4⋅X₃                        2   ⎟\n",
       "⎝                            (X_P - X₃)    ⎠"
      ]
     },
     "execution_count": 8,
     "metadata": {},
     "output_type": "execute_result"
    }
   ],
   "source": [
    "iso3 = f.xIso3().formula()\n",
    "f.factor(2 * (iso3['A₂₄⁺'] + iso3['A₂₄⁻']) / (iso3['A₂₄⁺'] - iso3['A₂₄⁻'])), iso3['X'] / iso3['Z']"
   ]
  },
  {
   "cell_type": "markdown",
   "id": "cacb05bc",
   "metadata": {},
   "source": [
    "## Looking for zeros"
   ]
  },
  {
   "cell_type": "code",
   "execution_count": 9,
   "id": "c64ecbbe",
   "metadata": {
    "scrolled": true
   },
   "outputs": [
    {
     "name": "stdout",
     "output_type": "stream",
     "text": [
      "/**********  Combined Doubling and Differential Addition  **********/\n",
      "proc xDBLADD(X_P, Z_P, X_Q, Z_Q, X_QP, Z_QP, A₂₄⁺):\n",
      "t0:     X_P + Z_P\n",
      "        X_P + Z_P\n",
      "          {X_P: -Z_P}\n",
      "\n",
      "t1:     X_P - Z_P\n",
      "        X_P - Z_P\n",
      "          {X_P: Z_P}\n",
      "\n",
      "t2:     t0^2\n",
      "        (X_P + Z_P)**2\n",
      "          {X_P: -Z_P}\n",
      "\n",
      "t3:     X_Q - Z_Q\n",
      "        X_Q - Z_Q\n",
      "          {X_Q: Z_Q}\n",
      "\n",
      "t4:     X_Q + Z_Q\n",
      "        X_Q + Z_Q\n",
      "          {X_Q: -Z_Q}\n",
      "\n",
      "t5:     t0 * t3\n",
      "        (X_P + Z_P)*(X_Q - Z_Q)\n",
      "          {X_P: -Z_P}\n",
      "          {X_Q: Z_Q}\n",
      "\n",
      "t6:     t1^2\n",
      "        (X_P - Z_P)**2\n",
      "          {X_P: Z_P}\n",
      "\n",
      "t7:     t1 * t4\n",
      "        (X_P - Z_P)*(X_Q + Z_Q)\n",
      "          {X_P: Z_P}\n",
      "          {X_Q: -Z_Q}\n",
      "\n",
      "t8:     t2 - t6\n",
      "        4*X_P*Z_P\n",
      "          {X_P: 0}\n",
      "          {Z_P: 0}\n",
      "\n",
      "X2>     t2 * t6\n",
      "        (X_P - Z_P)**2*(X_P + Z_P)**2\n",
      "          {X_P: -Z_P}\n",
      "          {X_P: Z_P}\n",
      "\n",
      "t10:    A₂₄⁺ * t8\n",
      "        4*A₂₄⁺*X_P*Z_P\n",
      "          {A₂₄⁺: 0}\n",
      "          {X_P: 0}\n",
      "          {Z_P: 0}\n",
      "\n",
      "t11:    t5 - t7\n",
      "        -2*(X_P*Z_Q - X_Q*Z_P)\n",
      "          {X_P: X_Q*Z_P/Z_Q}\n",
      "\n",
      "t12:    t10 + t6\n",
      "        4*A₂₄⁺*X_P*Z_P + X_P**2 - 2*X_P*Z_P + Z_P**2\n",
      "          {A₂₄⁺: (X_P - Z_P)**2/((X_P - Z_P)**2 - (X_P + Z_P)**2)}\n",
      "\n",
      "t13:    t5 + t7\n",
      "        2*(X_P*X_Q - Z_P*Z_Q)\n",
      "          {X_P: Z_P*Z_Q/X_Q}\n",
      "\n",
      "Z2>     t12 * t8\n",
      "        4*X_P*Z_P*(4*A₂₄⁺*X_P*Z_P + X_P**2 - 2*X_P*Z_P + Z_P**2)\n",
      "          {A₂₄⁺: (X_P - Z_P)**2/((X_P - Z_P)**2 - (X_P + Z_P)**2)}\n",
      "          {X_P: 0}\n",
      "          {Z_P: 0}\n",
      "\n",
      "t15:    t11^2\n",
      "        4*(X_P*Z_Q - X_Q*Z_P)**2\n",
      "          {X_P: X_Q*Z_P/Z_Q}\n",
      "\n",
      "t16:    t13^2\n",
      "        4*(X_P*X_Q - Z_P*Z_Q)**2\n",
      "          {X_P: Z_P*Z_Q/X_Q}\n",
      "\n",
      "Z+>     X_QP * t15\n",
      "        4*X_QP*(X_P*Z_Q - X_Q*Z_P)**2\n",
      "          {X_P: X_Q*Z_P/Z_Q}\n",
      "          {X_QP: 0}\n",
      "\n",
      "X+>     Z_QP * t16\n",
      "        4*Z_QP*(X_P*X_Q - Z_P*Z_Q)**2\n",
      "          {X_P: Z_P*Z_Q/X_Q}\n",
      "          {Z_QP: 0}\n"
     ]
    }
   ],
   "source": [
    "print(f.xDBLADD().pprint())"
   ]
  },
  {
   "cell_type": "code",
   "execution_count": 10,
   "id": "d8716b13",
   "metadata": {},
   "outputs": [
    {
     "data": {
      "image/png": "[encoded data removed]",
      "text/latex": [
       "$\\displaystyle 4 A₂₄⁺ X_{P} Z_{P} + X_{P}^{2} - 2 X_{P} Z_{P} + Z_{P}^{2}$"
      ],
      "text/plain": [
       "                    2                  2\n",
       "4⋅A₂₄⁺⋅X_P⋅Z_P + X_P  - 2⋅X_P⋅Z_P + Z_P "
      ]
     },
     "execution_count": 10,
     "metadata": {},
     "output_type": "execute_result"
    }
   ],
   "source": [
    "f.factor(f.xDBLADD()[12].exp)  # 2-torsion points"
   ]
  },
  {
   "cell_type": "code",
   "execution_count": 11,
   "id": "ec93c908",
   "metadata": {
    "scrolled": true
   },
   "outputs": [
    {
     "name": "stdout",
     "output_type": "stream",
     "text": [
      "/**********  Point Doubling  **********/\n",
      "proc xDBL(X, Z, A₂₄⁺, C₂₄):\n",
      "t0:     X - Z\n",
      "        X - Z\n",
      "          {X: Z}\n",
      "\n",
      "t1:     X + Z\n",
      "        X + Z\n",
      "          {X: -Z}\n",
      "\n",
      "t2:     t0^2\n",
      "        (X - Z)**2\n",
      "          {X: Z}\n",
      "\n",
      "t3:     t1^2\n",
      "        (X + Z)**2\n",
      "          {X: -Z}\n",
      "\n",
      "t4:     C₂₄ * t2\n",
      "        C₂₄*(X - Z)**2\n",
      "          {C₂₄: 0}\n",
      "          {X: Z}\n",
      "\n",
      "X>      t4 * t3\n",
      "        C₂₄*(X - Z)**2*(X + Z)**2\n",
      "          {C₂₄: 0}\n",
      "          {X: -Z}\n",
      "          {X: Z}\n",
      "\n",
      "t6:     t3 - t2\n",
      "        4*X*Z\n",
      "          {X: 0}\n",
      "          {Z: 0}\n",
      "\n",
      "t7:     A₂₄⁺ * t6\n",
      "        4*A₂₄⁺*X*Z\n",
      "          {A₂₄⁺: 0}\n",
      "          {X: 0}\n",
      "          {Z: 0}\n",
      "\n",
      "t8:     t4 + t7\n",
      "        4*A₂₄⁺*X*Z + C₂₄*X**2 - 2*C₂₄*X*Z + C₂₄*Z**2\n",
      "          {A₂₄⁺: C₂₄*(X - Z)**2/((X - Z)**2 - (X + Z)**2)}\n",
      "\n",
      "Z>      t8 * t6\n",
      "        4*X*Z*(4*A₂₄⁺*X*Z + C₂₄*X**2 - 2*C₂₄*X*Z + C₂₄*Z**2)\n",
      "          {A₂₄⁺: C₂₄*(X - Z)**2/((X - Z)**2 - (X + Z)**2)}\n",
      "          {X: 0}\n",
      "          {Z: 0}\n"
     ]
    }
   ],
   "source": [
    "print(f.xDBL().pprint())"
   ]
  },
  {
   "cell_type": "code",
   "execution_count": 12,
   "id": "393472fc",
   "metadata": {
    "scrolled": true
   },
   "outputs": [
    {
     "name": "stdout",
     "output_type": "stream",
     "text": [
      "/**********  Point Tripling  **********/\n",
      "proc xTPL(X, Z, A₂₄⁺, A₂₄⁻):\n",
      "t0:     X - Z\n",
      "        X - Z\n",
      "          {X: Z}\n",
      "\n",
      "t1:     X + Z\n",
      "        X + Z\n",
      "          {X: -Z}\n",
      "\n",
      "t2:     t0^2\n",
      "        (X - Z)**2\n",
      "          {X: Z}\n",
      "\n",
      "t3:     t1^2\n",
      "        (X + Z)**2\n",
      "          {X: -Z}\n",
      "\n",
      "t4:     t1 + t0\n",
      "        2*X\n",
      "          0\n",
      "\n",
      "t5:     t1 - t0\n",
      "        2*Z\n",
      "          0\n",
      "\n",
      "t6:     t4^2\n",
      "        4*X**2\n",
      "          0\n",
      "\n",
      "t7:     t6 - t3\n",
      "        (X - Z)*(3*X + Z)\n",
      "          {X: -Z/3}\n",
      "          {X: Z}\n",
      "\n",
      "t8:     t7 - t2\n",
      "        2*(X - Z)*(X + Z)\n",
      "          {X: -Z}\n",
      "          {X: Z}\n",
      "\n",
      "t9:     t3 * A₂₄⁺\n",
      "        A₂₄⁺*(X + Z)**2\n",
      "          {A₂₄⁺: 0}\n",
      "          {X: -Z}\n",
      "\n",
      "t10:    t9 * t3\n",
      "        A₂₄⁺*(X + Z)**4\n",
      "          {A₂₄⁺: 0}\n",
      "          {X: -Z}\n",
      "\n",
      "t11:    t2 * A₂₄⁻\n",
      "        A₂₄⁻*(X - Z)**2\n",
      "          {A₂₄⁻: 0}\n",
      "          {X: Z}\n",
      "\n",
      "t12:    t2 * t11\n",
      "        A₂₄⁻*(X - Z)**4\n",
      "          {A₂₄⁻: 0}\n",
      "          {X: Z}\n",
      "\n",
      "t13:    t12 - t10\n",
      "        -A₂₄⁺*X**4 - 4*A₂₄⁺*X**3*Z - 6*A₂₄⁺*X**2*Z**2 - 4*A₂₄⁺*X*Z**3 - A₂₄⁺*Z**4 + A₂₄⁻*X**4 - 4*A₂₄⁻*X**3*Z + 6*A₂₄⁻*X**2*Z**2 - 4*A₂₄⁻*X*Z**3 + A₂₄⁻*Z**4\n",
      "          {A₂₄⁺: A₂₄⁻*(X - Z)**4/(X + Z)**4}\n",
      "\n",
      "t14:    t9 - t11\n",
      "        A₂₄⁺*X**2 + 2*A₂₄⁺*X*Z + A₂₄⁺*Z**2 - A₂₄⁻*X**2 + 2*A₂₄⁻*X*Z - A₂₄⁻*Z**2\n",
      "          {A₂₄⁺: A₂₄⁻*(X - Z)**2/(X + Z)**2}\n",
      "\n",
      "t15:    t14 * t8\n",
      "        2*(X - Z)*(X + Z)*(A₂₄⁺*X**2 + 2*A₂₄⁺*X*Z + A₂₄⁺*Z**2 - A₂₄⁻*X**2 + 2*A₂₄⁻*X*Z - A₂₄⁻*Z**2)\n",
      "          {A₂₄⁺: A₂₄⁻*(X - Z)**2/(X + Z)**2}\n",
      "          {X: -Z}\n",
      "          {X: Z}\n",
      "\n",
      "t16:    t13 + t15\n",
      "        A₂₄⁺*X**4 - 6*A₂₄⁺*X**2*Z**2 - 8*A₂₄⁺*X*Z**3 - 3*A₂₄⁺*Z**4 - A₂₄⁻*X**4 + 6*A₂₄⁻*X**2*Z**2 - 8*A₂₄⁻*X*Z**3 + 3*A₂₄⁻*Z**4\n",
      "          {A₂₄⁺: A₂₄⁻*(X - Z)**2*(-4*X**2 + 2*(X - Z)**2 + (X + Z)**2)/((X + Z)**2*(-4*X**2 + (X - Z)**2 + 2*(X + Z)**2))}\n",
      "\n",
      "t17:    t16^2\n",
      "        (A₂₄⁺*X**4 - 6*A₂₄⁺*X**2*Z**2 - 8*A₂₄⁺*X*Z**3 - 3*A₂₄⁺*Z**4 - A₂₄⁻*X**4 + 6*A₂₄⁻*X**2*Z**2 - 8*A₂₄⁻*X*Z**3 + 3*A₂₄⁻*Z**4)**2\n",
      "          {A₂₄⁺: A₂₄⁻*(X - Z)**3*(X + 3*Z)/((X - 3*Z)*(X + Z)**3)}\n",
      "\n",
      "X>      t17 * t4\n",
      "        2*X*(A₂₄⁺*X**4 - 6*A₂₄⁺*X**2*Z**2 - 8*A₂₄⁺*X*Z**3 - 3*A₂₄⁺*Z**4 - A₂₄⁻*X**4 + 6*A₂₄⁻*X**2*Z**2 - 8*A₂₄⁻*X*Z**3 + 3*A₂₄⁻*Z**4)**2\n",
      "          {A₂₄⁺: A₂₄⁻*(X - Z)**3*(X + 3*Z)/((X - 3*Z)*(X + Z)**3)}\n",
      "          {X: 0}\n",
      "\n",
      "t19:    t13 - t15\n",
      "        -3*A₂₄⁺*X**4 - 8*A₂₄⁺*X**3*Z - 6*A₂₄⁺*X**2*Z**2 + A₂₄⁺*Z**4 + 3*A₂₄⁻*X**4 - 8*A₂₄⁻*X**3*Z + 6*A₂₄⁻*X**2*Z**2 - A₂₄⁻*Z**4\n",
      "          {A₂₄⁺: A₂₄⁻*(X - Z)**2*(4*X**2 - (X + Z)**2)/((X + Z)**2*(4*X**2 - (X - Z)**2))}\n",
      "\n",
      "t20:    t19^2\n",
      "        (3*A₂₄⁺*X**4 + 8*A₂₄⁺*X**3*Z + 6*A₂₄⁺*X**2*Z**2 - A₂₄⁺*Z**4 - 3*A₂₄⁻*X**4 + 8*A₂₄⁻*X**3*Z - 6*A₂₄⁻*X**2*Z**2 + A₂₄⁻*Z**4)**2\n",
      "          {A₂₄⁺: A₂₄⁻*(X - Z)**3*(3*X + Z)/((X + Z)**3*(3*X - Z))}\n",
      "\n",
      "Z>      t20 * t5\n",
      "        2*Z*(3*A₂₄⁺*X**4 + 8*A₂₄⁺*X**3*Z + 6*A₂₄⁺*X**2*Z**2 - A₂₄⁺*Z**4 - 3*A₂₄⁻*X**4 + 8*A₂₄⁻*X**3*Z - 6*A₂₄⁻*X**2*Z**2 + A₂₄⁻*Z**4)**2\n",
      "          {A₂₄⁺: A₂₄⁻*(X - Z)**3*(3*X + Z)/((X + Z)**3*(3*X - Z))}\n",
      "          {Z: 0}\n"
     ]
    }
   ],
   "source": [
    "print(f.xTPL().pprint())"
   ]
  },
  {
   "cell_type": "markdown",
   "id": "2eea4e2d",
   "metadata": {},
   "source": [
    "Potentially dangerous intermediate values. If $(X:Z)$ has order $3$, then $A = -2$, but for higher orders it's unclear what happens."
   ]
  },
  {
   "cell_type": "code",
   "execution_count": 13,
   "id": "4eac2ded",
   "metadata": {},
   "outputs": [
    {
     "data": {
      "image/png": "[encoded data removed]",
      "text/latex": [
       "$\\displaystyle \\left(X - Z\\right) \\left(3 X + Z\\right)$"
      ],
      "text/plain": [
       "(X - Z)⋅(3⋅X + Z)"
      ]
     },
     "execution_count": 13,
     "metadata": {},
     "output_type": "execute_result"
    }
   ],
   "source": [
    "f.factor(f.xTPL()[7].exp)"
   ]
  },
  {
   "cell_type": "markdown",
   "id": "5bef174b",
   "metadata": {},
   "source": [
    "$t_{13}$ and $t_{16}$ are interesting. If we assume that $(X:Z)$ has order $3^n$, the only zeros seem to be $A=±2$ (with high multiplicity), as the Sage experiment below shows:\n",
    "\n",
    "```\n",
    "sage: R.<A,X> = PolynomialRing(QQ, order='invlex')\n",
    "sage: R.ideal(2*A*X*(X^2+1) + X^4 + 6*X^2 + 1,\n",
    "              EllipticCurve([0,A,0,1,0]).division_polynomial(27, X)).groebner_basis()[-1].factor()\n",
    "(A - 2)^69 * (A + 2)^69\n",
    "sage: R.ideal(4*A*X - X^4 + 6*X^2 + 3,\n",
    "              EllipticCurve([0,A,0,1,0]).division_polynomial(27, X)).groebner_basis()[-1].factor()\n",
    "(A - 2)^81 * (A + 2)^81\n",
    "```"
   ]
  },
  {
   "cell_type": "code",
   "execution_count": 14,
   "id": "364d1b81",
   "metadata": {},
   "outputs": [
    {
     "data": {
      "image/png": "[encoded data removed]",
      "text/latex": [
       "$\\displaystyle - A₂₄⁺ \\left(X + Z\\right)^{4} + A₂₄⁻ \\left(X - Z\\right)^{4}$"
      ],
      "text/plain": [
       "              4               4\n",
       "- A₂₄⁺⋅(X + Z)  + A₂₄⁻⋅(X - Z) "
      ]
     },
     "execution_count": 14,
     "metadata": {},
     "output_type": "execute_result"
    }
   ],
   "source": [
    "f.xTPL()[13].exp"
   ]
  },
  {
   "cell_type": "code",
   "execution_count": 15,
   "id": "473583df",
   "metadata": {},
   "outputs": [
    {
     "data": {
      "image/png": "[encoded data removed]",
      "text/latex": [
       "$\\displaystyle - 4 \\left(2 A X^{3} + 2 A X + X^{4} + 6 X^{2} + 1\\right)$"
      ],
      "text/plain": [
       "   ⎛     3            4      2    ⎞\n",
       "-4⋅⎝2⋅A⋅X  + 2⋅A⋅X + X  + 6⋅X  + 1⎠"
      ]
     },
     "execution_count": 15,
     "metadata": {},
     "output_type": "execute_result"
    }
   ],
   "source": [
    "A = f.Symbol('A')\n",
    "f.factor(f.xTPL()[13].exp.subs({'A₂₄⁺':(A+2), 'A₂₄⁻':(A-2), 'Z':1}))"
   ]
  },
  {
   "cell_type": "code",
   "execution_count": 16,
   "id": "7063f423",
   "metadata": {},
   "outputs": [
    {
     "data": {
      "image/png": "[encoded data removed]",
      "text/latex": [
       "$\\displaystyle - 4 \\left(4 A X - X^{4} + 6 X^{2} + 3\\right)$"
      ],
      "text/plain": [
       "   ⎛         4      2    ⎞\n",
       "-4⋅⎝4⋅A⋅X - X  + 6⋅X  + 3⎠"
      ]
     },
     "execution_count": 16,
     "metadata": {},
     "output_type": "execute_result"
    }
   ],
   "source": [
    "f.factor(f.xTPL()[16].exp.subs({'A₂₄⁺':(A+2), 'A₂₄⁻':(A-2), 'Z':1}))"
   ]
  },
  {
   "cell_type": "markdown",
   "id": "cb294ef0",
   "metadata": {},
   "source": [
    "This is just the 3-division polynomial, nothing to see here"
   ]
  },
  {
   "cell_type": "code",
   "execution_count": 17,
   "id": "f04a0209",
   "metadata": {},
   "outputs": [
    {
     "data": {
      "image/png": "[encoded data removed]",
      "text/latex": [
       "$\\displaystyle - 4 \\left(4 A X^{3} + 3 X^{4} + 6 X^{2} - 1\\right)$"
      ],
      "text/plain": [
       "   ⎛     3      4      2    ⎞\n",
       "-4⋅⎝4⋅A⋅X  + 3⋅X  + 6⋅X  - 1⎠"
      ]
     },
     "execution_count": 17,
     "metadata": {},
     "output_type": "execute_result"
    }
   ],
   "source": [
    "f.factor(f.xTPL()[19].exp.subs({'A₂₄⁺':(A+2), 'A₂₄⁻':(A-2), 'Z':1}))  # 3-division polynomial"
   ]
  },
  {
   "cell_type": "code",
   "execution_count": 18,
   "id": "6be51146",
   "metadata": {
    "scrolled": true
   },
   "outputs": [
    {
     "name": "stdout",
     "output_type": "stream",
     "text": [
      "/**********  Degree 2 isogeny computation and evaluation  **********/\n",
      "proc xIso2(X₂, Z₂, X_P, Z_P):\n",
      "t0:     X₂^2\n",
      "        X₂**2\n",
      "          0\n",
      "\n",
      "C₂₄>    Z₂^2\n",
      "        Z₂**2\n",
      "          0\n",
      "\n",
      "A₂₄⁺>   C₂₄ - t0\n",
      "        -(X₂ - Z₂)*(X₂ + Z₂)\n",
      "          {X₂: -Z₂}\n",
      "          {X₂: Z₂}\n",
      "\n",
      "t1:     X₂ + Z₂\n",
      "        X₂ + Z₂\n",
      "          {X₂: -Z₂}\n",
      "\n",
      "t2:     X₂ - Z₂\n",
      "        X₂ - Z₂\n",
      "          {X₂: Z₂}\n",
      "\n",
      "t3:     X_P + Z_P\n",
      "        X_P + Z_P\n",
      "          {X_P: -Z_P}\n",
      "\n",
      "t4:     X_P - Z_P\n",
      "        X_P - Z_P\n",
      "          {X_P: Z_P}\n",
      "\n",
      "t5:     t1 * t4\n",
      "        (X_P - Z_P)*(X₂ + Z₂)\n",
      "          {X_P: Z_P}\n",
      "          {X₂: -Z₂}\n",
      "\n",
      "t6:     t2 * t3\n",
      "        (X_P + Z_P)*(X₂ - Z₂)\n",
      "          {X_P: -Z_P}\n",
      "          {X₂: Z₂}\n",
      "\n",
      "t7:     t5 + t6\n",
      "        2*(X_P*X₂ - Z_P*Z₂)\n",
      "          {X_P: Z_P*Z₂/X₂}\n",
      "\n",
      "t8:     t5 - t6\n",
      "        2*(X_P*Z₂ - X₂*Z_P)\n",
      "          {X_P: X₂*Z_P/Z₂}\n",
      "\n",
      "X>      X_P * t7\n",
      "        2*X_P*(X_P*X₂ - Z_P*Z₂)\n",
      "          {X_P: 0}\n",
      "          {X₂: Z_P*Z₂/X_P}\n",
      "\n",
      "Z>      Z_P * t8\n",
      "        2*Z_P*(X_P*Z₂ - X₂*Z_P)\n",
      "          {X_P: X₂*Z_P/Z₂}\n",
      "          {Z_P: 0}\n"
     ]
    }
   ],
   "source": [
    "print(f.xIso2().pprint())"
   ]
  },
  {
   "cell_type": "code",
   "execution_count": 19,
   "id": "a8dc04bb",
   "metadata": {
    "scrolled": true
   },
   "outputs": [
    {
     "name": "stdout",
     "output_type": "stream",
     "text": [
      "/**********  Degree 4 isogeny computation and evaluation  **********/\n",
      "proc xIso4(X₄, Z₄, X_P, Z_P):\n",
      "K₂>     X₄ - Z₄\n",
      "        X₄ - Z₄\n",
      "          {X₄: Z₄}\n",
      "\n",
      "K₃>     X₄ + Z₄\n",
      "        X₄ + Z₄\n",
      "          {X₄: -Z₄}\n",
      "\n",
      "t0:     Z₄^2\n",
      "        Z₄**2\n",
      "          0\n",
      "\n",
      "t1:     t0 + t0\n",
      "        2*Z₄**2\n",
      "          0\n",
      "\n",
      "C₂₄>    t1^2\n",
      "        4*Z₄**4\n",
      "          0\n",
      "\n",
      "K₁>     t1 + t1\n",
      "        4*Z₄**2\n",
      "          0\n",
      "\n",
      "t2:     X₄^2\n",
      "        X₄**2\n",
      "          0\n",
      "\n",
      "t3:     t2 + t2\n",
      "        2*X₄**2\n",
      "          0\n",
      "\n",
      "A₂₄⁺>   t3^2\n",
      "        4*X₄**4\n",
      "          0\n",
      "\n",
      "t4:     X_P + Z_P\n",
      "        X_P + Z_P\n",
      "          {X_P: -Z_P}\n",
      "\n",
      "t5:     X_P - Z_P\n",
      "        X_P - Z_P\n",
      "          {X_P: Z_P}\n",
      "\n",
      "t6:     t4 * K₂\n",
      "        (X_P + Z_P)*(X₄ - Z₄)\n",
      "          {X_P: -Z_P}\n",
      "          {X₄: Z₄}\n",
      "\n",
      "t7:     t5 * K₃\n",
      "        (X_P - Z_P)*(X₄ + Z₄)\n",
      "          {X_P: Z_P}\n",
      "          {X₄: -Z₄}\n",
      "\n",
      "t8:     t4 * t5\n",
      "        (X_P - Z_P)*(X_P + Z_P)\n",
      "          {X_P: -Z_P}\n",
      "          {X_P: Z_P}\n",
      "\n",
      "t9:     t8 * K₁\n",
      "        4*Z₄**2*(X_P - Z_P)*(X_P + Z_P)\n",
      "          {X_P: -Z_P}\n",
      "          {X_P: Z_P}\n",
      "          {Z₄: 0}\n",
      "\n",
      "t10:    t6 + t7\n",
      "        2*(X_P*X₄ - Z_P*Z₄)\n",
      "          {X_P: Z_P*Z₄/X₄}\n",
      "\n",
      "t11:    t6 - t7\n",
      "        -2*(X_P*Z₄ - X₄*Z_P)\n",
      "          {X_P: X₄*Z_P/Z₄}\n",
      "\n",
      "t12:    t10^2\n",
      "        4*(X_P*X₄ - Z_P*Z₄)**2\n",
      "          {X_P: Z_P*Z₄/X₄}\n",
      "\n",
      "t13:    t11^2\n",
      "        4*(X_P*Z₄ - X₄*Z_P)**2\n",
      "          {X_P: X₄*Z_P/Z₄}\n",
      "\n",
      "t14:    t9 + t12\n",
      "        4*X_P*(X_P*X₄**2 + X_P*Z₄**2 - 2*X₄*Z_P*Z₄)\n",
      "          {X_P: 0}\n",
      "          {X_P: 2*X₄*Z_P*Z₄/(X₄**2 + Z₄**2)}\n",
      "\n",
      "t15:    t13 - t9\n",
      "        -4*Z_P*(2*X_P*X₄*Z₄ - X₄**2*Z_P - Z_P*Z₄**2)\n",
      "          {X_P: Z_P*(X₄**2 + Z₄**2)/(2*X₄*Z₄)}\n",
      "          {Z_P: 0}\n",
      "\n",
      "X>      t14 * t12\n",
      "        16*X_P*(X_P*X₄ - Z_P*Z₄)**2*(X_P*X₄**2 + X_P*Z₄**2 - 2*X₄*Z_P*Z₄)\n",
      "          {X_P: 0}\n",
      "          {X_P: Z_P*Z₄/X₄}\n",
      "          {X_P: 2*X₄*Z_P*Z₄/(X₄**2 + Z₄**2)}\n",
      "\n",
      "Z>      t13 * t15\n",
      "        -16*Z_P*(X_P*Z₄ - X₄*Z_P)**2*(2*X_P*X₄*Z₄ - X₄**2*Z_P - Z_P*Z₄**2)\n",
      "          {X_P: X₄*Z_P/Z₄}\n",
      "          {X_P: Z_P*(X₄**2 + Z₄**2)/(2*X₄*Z₄)}\n",
      "          {Z_P: 0}\n"
     ]
    }
   ],
   "source": [
    "print(f.xIso4().pprint())"
   ]
  },
  {
   "cell_type": "markdown",
   "id": "54f83ef5",
   "metadata": {},
   "source": [
    "These values seem to be related to the kernel and its coset by $T=(0:1)$, so probably no big deal"
   ]
  },
  {
   "cell_type": "code",
   "execution_count": 20,
   "id": "d41001ed",
   "metadata": {},
   "outputs": [
    {
     "data": {
      "image/png": "[encoded data removed]",
      "text/latex": [
       "$\\displaystyle \\left[ \\left\\{ X_{P} : 0\\right\\}, \\  \\left\\{ X_{P} : \\frac{2 X₄}{X₄^{2} + 1}\\right\\}\\right]$"
      ],
      "text/plain": [
       "⎡          ⎧       2⋅X₄ ⎫⎤\n",
       "⎢{X_P: 0}, ⎪X_P: ───────⎪⎥\n",
       "⎢          ⎨       2    ⎬⎥\n",
       "⎢          ⎪     X₄  + 1⎪⎥\n",
       "⎣          ⎩            ⎭⎦"
      ]
     },
     "execution_count": 20,
     "metadata": {},
     "output_type": "execute_result"
    }
   ],
   "source": [
    "f.solve(f.xIso4()[14].exp.subs({'Z₄':1, 'Z_P':1}))"
   ]
  },
  {
   "cell_type": "code",
   "execution_count": 21,
   "id": "8703339a",
   "metadata": {},
   "outputs": [
    {
     "data": {
      "image/png": "[encoded data removed]",
      "text/latex": [
       "$\\displaystyle \\left[ \\left\\{ X_{P} : \\frac{X₄^{2} + 1}{2 X₄}\\right\\}\\right]$"
      ],
      "text/plain": [
       "⎡⎧       2    ⎫⎤\n",
       "⎢⎪     X₄  + 1⎪⎥\n",
       "⎢⎨X_P: ───────⎬⎥\n",
       "⎢⎪       2⋅X₄ ⎪⎥\n",
       "⎣⎩            ⎭⎦"
      ]
     },
     "execution_count": 21,
     "metadata": {},
     "output_type": "execute_result"
    }
   ],
   "source": [
    "f.solve(f.xIso4()[15].exp.subs({'Z₄':1, 'Z_P':1}))"
   ]
  },
  {
   "cell_type": "code",
   "execution_count": 22,
   "id": "b48cb9d0",
   "metadata": {},
   "outputs": [
    {
     "data": {
      "image/png": "[encoded data removed]",
      "text/latex": [
       "$\\displaystyle \\left[ \\left\\{ X_{P} : 0\\right\\}, \\  \\left\\{ X_{P} : \\frac{1}{X₄}\\right\\}, \\  \\left\\{ X_{P} : \\frac{2 X₄}{X₄^{2} + 1}\\right\\}\\right]$"
      ],
      "text/plain": [
       "⎡          ⎧     1 ⎫  ⎧       2⋅X₄ ⎫⎤\n",
       "⎢{X_P: 0}, ⎨X_P: ──⎬, ⎪X_P: ───────⎪⎥\n",
       "⎢          ⎩     X₄⎭  ⎨       2    ⎬⎥\n",
       "⎢                     ⎪     X₄  + 1⎪⎥\n",
       "⎣                     ⎩            ⎭⎦"
      ]
     },
     "execution_count": 22,
     "metadata": {},
     "output_type": "execute_result"
    }
   ],
   "source": [
    "f.solve(f.xIso4()['X'].exp.subs({'Z₄':1, 'Z_P':1}))"
   ]
  },
  {
   "cell_type": "code",
   "execution_count": 23,
   "id": "d11480a1",
   "metadata": {},
   "outputs": [
    {
     "data": {
      "image/png": "[encoded data removed]",
      "text/latex": [
       "$\\displaystyle \\left[ \\left\\{ X_{P} : X₄\\right\\}, \\  \\left\\{ X_{P} : \\frac{X₄^{2} + 1}{2 X₄}\\right\\}\\right]$"
      ],
      "text/plain": [
       "⎡           ⎧       2    ⎫⎤\n",
       "⎢           ⎪     X₄  + 1⎪⎥\n",
       "⎢{X_P: X₄}, ⎨X_P: ───────⎬⎥\n",
       "⎢           ⎪       2⋅X₄ ⎪⎥\n",
       "⎣           ⎩            ⎭⎦"
      ]
     },
     "execution_count": 23,
     "metadata": {},
     "output_type": "execute_result"
    }
   ],
   "source": [
    "f.solve(f.xIso4()['Z'].exp.subs({'Z₄':1, 'Z_P':1}))"
   ]
  },
  {
   "cell_type": "code",
   "execution_count": 24,
   "id": "6c7b2475",
   "metadata": {
    "scrolled": true
   },
   "outputs": [
    {
     "name": "stdout",
     "output_type": "stream",
     "text": [
      "/**********  Degree 3 isogeny computation and evaluation  **********/\n",
      "proc xIso3(X₃, Z₃, X_P, Z_P):\n",
      "K₁>     X₃ - Z₃\n",
      "        X₃ - Z₃\n",
      "          {X₃: Z₃}\n",
      "\n",
      "t0:     K₁^2\n",
      "        (X₃ - Z₃)**2\n",
      "          {X₃: Z₃}\n",
      "\n",
      "K₂>     X₃ + Z₃\n",
      "        X₃ + Z₃\n",
      "          {X₃: -Z₃}\n",
      "\n",
      "t1:     K₂^2\n",
      "        (X₃ + Z₃)**2\n",
      "          {X₃: -Z₃}\n",
      "\n",
      "t2:     t0 + t1\n",
      "        2*(X₃**2 + Z₃**2)\n",
      "          {X₃: -I*Z₃}\n",
      "          {X₃: I*Z₃}\n",
      "\n",
      "t3:     K₁ + K₂\n",
      "        2*X₃\n",
      "          0\n",
      "\n",
      "t4:     t3^2\n",
      "        4*X₃**2\n",
      "          0\n",
      "\n",
      "t5:     t4 - t2\n",
      "        2*(X₃ - Z₃)*(X₃ + Z₃)\n",
      "          {X₃: -Z₃}\n",
      "          {X₃: Z₃}\n",
      "\n",
      "t6:     t1 + t5\n",
      "        (X₃ + Z₃)*(3*X₃ - Z₃)\n",
      "          {X₃: -Z₃}\n",
      "          {X₃: Z₃/3}\n",
      "\n",
      "t7:     t5 + t0\n",
      "        (X₃ - Z₃)*(3*X₃ + Z₃)\n",
      "          {X₃: -Z₃/3}\n",
      "          {X₃: Z₃}\n",
      "\n",
      "t8:     t7 + t0\n",
      "        4*X₃*(X₃ - Z₃)\n",
      "          {X₃: 0}\n",
      "          {Z₃: X₃}\n",
      "\n",
      "t9:     t8 + t8\n",
      "        8*X₃*(X₃ - Z₃)\n",
      "          {X₃: 0}\n",
      "          {Z₃: X₃}\n",
      "\n",
      "t10:    t1 + t9\n",
      "        (3*X₃ - Z₃)**2\n",
      "          {X₃: Z₃/3}\n",
      "\n",
      "A₂₄⁻>   t6 * t10\n",
      "        (X₃ + Z₃)*(3*X₃ - Z₃)**3\n",
      "          {X₃: -Z₃}\n",
      "          {X₃: Z₃/3}\n",
      "\n",
      "t11:    t1 + t6\n",
      "        4*X₃*(X₃ + Z₃)\n",
      "          {X₃: 0}\n",
      "          {Z₃: -X₃}\n",
      "\n",
      "t12:    t11 + t11\n",
      "        8*X₃*(X₃ + Z₃)\n",
      "          {X₃: 0}\n",
      "          {Z₃: -X₃}\n",
      "\n",
      "t13:    t0 + t12\n",
      "        (3*X₃ + Z₃)**2\n",
      "          {X₃: -Z₃/3}\n",
      "\n",
      "A₂₄⁺>   t7 * t13\n",
      "        (X₃ - Z₃)*(3*X₃ + Z₃)**3\n",
      "          {X₃: -Z₃/3}\n",
      "          {X₃: Z₃}\n",
      "\n",
      "t14:    X_P + Z_P\n",
      "        X_P + Z_P\n",
      "          {X_P: -Z_P}\n",
      "\n",
      "t15:    X_P - Z_P\n",
      "        X_P - Z_P\n",
      "          {X_P: Z_P}\n",
      "\n",
      "t16:    K₁ * t14\n",
      "        (X_P + Z_P)*(X₃ - Z₃)\n",
      "          {X_P: -Z_P}\n",
      "          {X₃: Z₃}\n",
      "\n",
      "t17:    K₂ * t15\n",
      "        (X_P - Z_P)*(X₃ + Z₃)\n",
      "          {X_P: Z_P}\n",
      "          {X₃: -Z₃}\n",
      "\n",
      "t18:    t16 + t17\n",
      "        2*(X_P*X₃ - Z_P*Z₃)\n",
      "          {X_P: Z_P*Z₃/X₃}\n",
      "\n",
      "t19:    t17 - t16\n",
      "        2*(X_P*Z₃ - X₃*Z_P)\n",
      "          {X_P: X₃*Z_P/Z₃}\n",
      "\n",
      "t20:    t18^2\n",
      "        4*(X_P*X₃ - Z_P*Z₃)**2\n",
      "          {X_P: Z_P*Z₃/X₃}\n",
      "\n",
      "t21:    t19^2\n",
      "        4*(X_P*Z₃ - X₃*Z_P)**2\n",
      "          {X_P: X₃*Z_P/Z₃}\n",
      "\n",
      "X>      X_P * t20\n",
      "        4*X_P*(X_P*X₃ - Z_P*Z₃)**2\n",
      "          {X_P: 0}\n",
      "          {X_P: Z_P*Z₃/X₃}\n",
      "\n",
      "Z>      Z_P * t21\n",
      "        4*Z_P*(X_P*Z₃ - X₃*Z_P)**2\n",
      "          {X_P: X₃*Z_P/Z₃}\n",
      "          {Z_P: 0}\n"
     ]
    }
   ],
   "source": [
    "print(f.xIso3().pprint())"
   ]
  },
  {
   "cell_type": "markdown",
   "id": "0ae6ba42",
   "metadata": {},
   "source": [
    "Interesting, $(±i:1)$ might be a problem. These are points of order $3$ when $A=±i$ (not a CM curve, not supersingular for p434). Seems messy for higher orders."
   ]
  },
  {
   "cell_type": "code",
   "execution_count": 25,
   "id": "ad0d1fd6",
   "metadata": {},
   "outputs": [
    {
     "data": {
      "image/png": "[encoded data removed]",
      "text/latex": [
       "$\\displaystyle 2 \\left(X₃^{2} + Z₃^{2}\\right)$"
      ],
      "text/plain": [
       "  ⎛  2     2⎞\n",
       "2⋅⎝X₃  + Z₃ ⎠"
      ]
     },
     "execution_count": 25,
     "metadata": {},
     "output_type": "execute_result"
    }
   ],
   "source": [
    "f.factor(f.xIso3()[2].exp)"
   ]
  },
  {
   "cell_type": "markdown",
   "id": "1be4421b",
   "metadata": {},
   "source": [
    "$±1/3$, again!"
   ]
  },
  {
   "cell_type": "code",
   "execution_count": 26,
   "id": "293423a8",
   "metadata": {},
   "outputs": [
    {
     "data": {
      "image/png": "[encoded data removed]",
      "text/latex": [
       "$\\displaystyle \\left(X₃ + Z₃\\right) \\left(3 X₃ - Z₃\\right)$"
      ],
      "text/plain": [
       "(X₃ + Z₃)⋅(3⋅X₃ - Z₃)"
      ]
     },
     "execution_count": 26,
     "metadata": {},
     "output_type": "execute_result"
    }
   ],
   "source": [
    "f.factor(f.xIso3()[6].exp)"
   ]
  },
  {
   "cell_type": "code",
   "execution_count": 27,
   "id": "5b6442e4",
   "metadata": {},
   "outputs": [
    {
     "data": {
      "image/png": "[encoded data removed]",
      "text/latex": [
       "$\\displaystyle \\left(X₃ - Z₃\\right) \\left(3 X₃ + Z₃\\right)$"
      ],
      "text/plain": [
       "(X₃ - Z₃)⋅(3⋅X₃ + Z₃)"
      ]
     },
     "execution_count": 27,
     "metadata": {},
     "output_type": "execute_result"
    }
   ],
   "source": [
    "f.factor(f.xIso3()[7].exp)"
   ]
  },
  {
   "cell_type": "markdown",
   "id": "819b9c97",
   "metadata": {},
   "source": [
    "Careful about translation by $T=(0:1)$. Not a big deal, but a bit surprised to see this here."
   ]
  },
  {
   "cell_type": "code",
   "execution_count": 28,
   "id": "06e95117",
   "metadata": {},
   "outputs": [
    {
     "data": {
      "image/png": "[encoded data removed]",
      "text/latex": [
       "$\\displaystyle 2 \\left(X_{P} X₃ - Z_{P} Z₃\\right)$"
      ],
      "text/plain": [
       "2⋅(X_P⋅X₃ - Z_P⋅Z₃)"
      ]
     },
     "execution_count": 28,
     "metadata": {},
     "output_type": "execute_result"
    }
   ],
   "source": [
    "f.factor(f.xIso3()[18].exp)"
   ]
  }
 ],
 "metadata": {
  "kernelspec": {
   "display_name": "Python 3 (ipykernel)",
   "language": "python",
   "name": "python3"
  },
  "language_info": {
   "codemirror_mode": {
    "name": "ipython",
    "version": 3
   },
   "file_extension": ".py",
   "mimetype": "text/x-python",
   "name": "python",
   "nbconvert_exporter": "python",
   "pygments_lexer": "ipython3",
   "version": "3.10.1"
  }
 },
 "nbformat": 4,
 "nbformat_minor": 5
}
